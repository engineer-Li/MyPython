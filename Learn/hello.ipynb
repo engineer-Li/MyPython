{
 "nbformat": 4,
 "nbformat_minor": 2,
 "metadata": {
  "language_info": {
   "name": "python",
   "codemirror_mode": {
    "name": "ipython",
    "version": 3
   },
   "version": "3.7.6-final"
  },
  "orig_nbformat": 2,
  "file_extension": ".py",
  "mimetype": "text/x-python",
  "name": "python",
  "npconvert_exporter": "python",
  "pygments_lexer": "ipython3",
  "version": 3,
  "kernelspec": {
   "name": "python37664bit40dc0dc0f4f8425f82bc2b10d91bf305",
   "display_name": "Python 3.7.6 64-bit"
  }
 },
 "cells": [
  {
   "cell_type": "code",
   "execution_count": 1,
   "metadata": {},
   "outputs": [
    {
     "name": "stdout",
     "output_type": "stream",
     "text": "1\n"
    }
   ],
   "source": [
    "print(\"1\")"
   ]
  },
  {
   "cell_type": "code",
   "execution_count": 9,
   "metadata": {},
   "outputs": [],
   "source": [
    "import requests\n",
    "from bs4 import BeautifulSoup\n",
    "import bs4\n",
    " \n",
    "def getHTMLText(url):\n",
    "    try:\n",
    "        r = requests.get(url, timeout=30)\n",
    "        r.raise_for_status()\n",
    "        r.encoding = r.apparent_encoding\n",
    "        return r.text\n",
    "    except:\n",
    "        return \"\"\n",
    " \n",
    "def fillUnivList(ulist, html):\n",
    "    soup = BeautifulSoup(html, \"html.parser\")\n",
    "    for tr in soup.find('tbody').children: #遍历表签树\n",
    "        #print(tr)\n",
    "        if isinstance(tr, bs4.element.Tag):\n",
    "            tds = tr('td') #简写，等价于下一行代码            \n",
    "            #tds = tr.find_all('td')\n",
    "            ulist.append([tds[0].string, tds[1].string, tds[2].string,tds[3].string])\n",
    " \n",
    "def printUnivList(ulist, num):\n",
    "    tplt = \"{0:^10}\\t{1:{4}^8}\\t{2:6}\\t{3:10}\"\n",
    "    print(tplt.format(\"排名\",\"学校名称\",\"城市\",\"总分\",chr(12288)))\n",
    "    for i in range(num):\n",
    "        u=ulist[i]\n",
    "        print(tplt.format(u[0],u[1],u[2],u[3],chr(12288)))\n",
    "     \n",
    "def main():\n",
    "    uinfo = []\n",
    "    url = 'http://www.zuihaodaxue.cn/zuihaodaxuepaiming2016.html'\n",
    "    html = getHTMLText(url)\n",
    "    fillUnivList(uinfo, html)\n",
    "    printUnivList(uinfo, 20) # 20 univs\n"
   ]
  },
  {
   "cell_type": "code",
   "execution_count": 10,
   "metadata": {},
   "outputs": [
    {
     "name": "stdout",
     "output_type": "stream",
     "text": "排名    \t　　学校名称　　\t城市    \t总分        \n    1     \t　　清华大学　　\t北京市   \t95.9      \n    2     \t　　北京大学　　\t北京市   \t82.6      \n    3     \t　　浙江大学　　\t浙江省   \t80        \n    4     \t　上海交通大学　\t上海市   \t78.7      \n    5     \t　　复旦大学　　\t上海市   \t70.9      \n    6     \t　　南京大学　　\t江苏省   \t66.1      \n    7     \t中国科学技术大学\t安徽省   \t65.5      \n    8     \t哈尔滨工业大学　\t黑龙江省  \t63.5      \n    9     \t　华中科技大学　\t湖北省   \t62.9      \n    10    \t　　中山大学　　\t广东省   \t62.1      \n    11    \t　　东南大学　　\t江苏省   \t61.4      \n    12    \t　　天津大学　　\t天津市   \t60.8      \n    13    \t　　同济大学　　\t上海市   \t59.8      \n    14    \t北京航空航天大学\t北京市   \t59.6      \n    15    \t　　四川大学　　\t四川省   \t59.4      \n    16    \t　　武汉大学　　\t湖北省   \t59.1      \n    17    \t　西安交通大学　\t陕西省   \t58.9      \n    18    \t　　南开大学　　\t天津市   \t58.3      \n    19    \t　大连理工大学　\t辽宁省   \t56.9      \n    20    \t　　山东大学　　\t山东省   \t56.3      \n"
    }
   ],
   "source": [
    "main()"
   ]
  },
  {
   "cell_type": "code",
   "execution_count": null,
   "metadata": {},
   "outputs": [],
   "source": []
  }
 ]
}